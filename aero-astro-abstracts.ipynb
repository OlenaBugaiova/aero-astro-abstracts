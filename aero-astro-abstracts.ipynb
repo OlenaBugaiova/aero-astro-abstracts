{
 "cells": [
  {
   "cell_type": "markdown",
   "id": "c9503c3a",
   "metadata": {},
   "source": [
    "# Aeronautics & Astronautics Abstracts\n",
    "\n",
    "Can a machine distinguish between propulsion and thermophysics abstracts? <br> \n",
    "https://www.kaggle.com/sylar68/aeronautics-astronautics-journal-abstracts"
   ]
  },
  {
   "cell_type": "markdown",
   "id": "02ad5fc4",
   "metadata": {},
   "source": [
    "## Import the required libraries"
   ]
  },
  {
   "cell_type": "code",
   "execution_count": 1,
   "id": "685ebced",
   "metadata": {},
   "outputs": [
    {
     "name": "stderr",
     "output_type": "stream",
     "text": [
      "[nltk_data] Downloading package punkt to /Users/elena/nltk_data...\n",
      "[nltk_data]   Package punkt is already up-to-date!\n",
      "[nltk_data] Downloading package stopwords to /Users/elena/nltk_data...\n",
      "[nltk_data]   Package stopwords is already up-to-date!\n"
     ]
    }
   ],
   "source": [
    "import os\n",
    "import random\n",
    "import numpy as np\n",
    "import pandas as pd\n",
    "from pandas import DataFrame\n",
    "pd.options.mode.chained_assignment = None\n",
    "\n",
    "# a library for cross-validation, hold out data split\n",
    "from sklearn.model_selection import KFold, train_test_split\n",
    "\n",
    "from sklearn.svm import LinearSVC\n",
    "from sklearn.linear_model import LogisticRegression\n",
    "\n",
    "# a library for reading data and formatting information from Excel files\n",
    "import xlrd\n",
    "\n",
    "# libraries for text processing\n",
    "import re\n",
    "import string\n",
    "import nltk\n",
    "nltk.download('punkt')\n",
    "nltk.download('stopwords')\n",
    "from nltk.corpus import stopwords\n",
    "from nltk.collocations import BigramAssocMeasures, BigramCollocationFinder\n",
    "from nltk.collocations import TrigramAssocMeasures, TrigramCollocationFinder\n",
    "\n",
    "# a data visualization library\n",
    "import matplotlib.pyplot as plt\n",
    "%matplotlib inline"
   ]
  },
  {
   "cell_type": "markdown",
   "id": "71710647",
   "metadata": {},
   "source": [
    "## Read data from excel\n",
    "\n",
    "We download the aiaa_dataset.xls and store it in the INPUT_DATA_DIR as defined below"
   ]
  },
  {
   "cell_type": "code",
   "execution_count": 2,
   "id": "15f5b7a4",
   "metadata": {},
   "outputs": [],
   "source": [
    "# define some information about where to get our data\n",
    "INPUT_DATA_DIR = os.environ.get('INPUT_DATA_DIR', '/workspace/data/')"
   ]
  },
  {
   "cell_type": "code",
   "execution_count": 3,
   "id": "50858f98",
   "metadata": {},
   "outputs": [
    {
     "name": "stdout",
     "output_type": "stream",
     "text": [
      "CPU times: user 23.1 ms, sys: 7.5 ms, total: 30.6 ms\n",
      "Wall time: 53.5 ms\n"
     ]
    },
    {
     "data": {
      "text/html": [
       "<div>\n",
       "<style scoped>\n",
       "    .dataframe tbody tr th:only-of-type {\n",
       "        vertical-align: middle;\n",
       "    }\n",
       "\n",
       "    .dataframe tbody tr th {\n",
       "        vertical-align: top;\n",
       "    }\n",
       "\n",
       "    .dataframe thead th {\n",
       "        text-align: right;\n",
       "    }\n",
       "</style>\n",
       "<table border=\"1\" class=\"dataframe\">\n",
       "  <thead>\n",
       "    <tr style=\"text-align: right;\">\n",
       "      <th></th>\n",
       "      <th>title</th>\n",
       "      <th>abstract</th>\n",
       "      <th>journal</th>\n",
       "      <th>volume</th>\n",
       "    </tr>\n",
       "  </thead>\n",
       "  <tbody>\n",
       "    <tr>\n",
       "      <th>0</th>\n",
       "      <td>Timescale-Based Frozen Nonadiabatic Flamelet C...</td>\n",
       "      <td>The present research work introduces a novel c...</td>\n",
       "      <td>JPP</td>\n",
       "      <td>37.4</td>\n",
       "    </tr>\n",
       "    <tr>\n",
       "      <th>1</th>\n",
       "      <td>Development and Testing of Liquid Simulants</td>\n",
       "      <td>A group of liquid simulants was developed in o...</td>\n",
       "      <td>JPP</td>\n",
       "      <td>37.4</td>\n",
       "    </tr>\n",
       "    <tr>\n",
       "      <th>2</th>\n",
       "      <td>Conjugate Analysis of Silica-Phenolic Charring...</td>\n",
       "      <td>Because of its excellent insulation capability...</td>\n",
       "      <td>JPP</td>\n",
       "      <td>37.4</td>\n",
       "    </tr>\n",
       "    <tr>\n",
       "      <th>3</th>\n",
       "      <td>Theoretical Analysis of Performance Parameters...</td>\n",
       "      <td>Conventional expressions and definitions descr...</td>\n",
       "      <td>JPP</td>\n",
       "      <td>37.4</td>\n",
       "    </tr>\n",
       "    <tr>\n",
       "      <th>4</th>\n",
       "      <td>Hurst Exponents for Intra- and Intercycle Ther...</td>\n",
       "      <td>The detrended fluctuation analysis, a techniqu...</td>\n",
       "      <td>JPP</td>\n",
       "      <td>37.4</td>\n",
       "    </tr>\n",
       "  </tbody>\n",
       "</table>\n",
       "</div>"
      ],
      "text/plain": [
       "                                               title  \\\n",
       "0  Timescale-Based Frozen Nonadiabatic Flamelet C...   \n",
       "1        Development and Testing of Liquid Simulants   \n",
       "2  Conjugate Analysis of Silica-Phenolic Charring...   \n",
       "3  Theoretical Analysis of Performance Parameters...   \n",
       "4  Hurst Exponents for Intra- and Intercycle Ther...   \n",
       "\n",
       "                                            abstract journal  volume  \n",
       "0  The present research work introduces a novel c...     JPP    37.4  \n",
       "1  A group of liquid simulants was developed in o...     JPP    37.4  \n",
       "2  Because of its excellent insulation capability...     JPP    37.4  \n",
       "3  Conventional expressions and definitions descr...     JPP    37.4  \n",
       "4  The detrended fluctuation analysis, a techniqu...     JPP    37.4  "
      ]
     },
     "execution_count": 3,
     "metadata": {},
     "output_type": "execute_result"
    }
   ],
   "source": [
    "%%time\n",
    "raw_df = pd.read_excel(os.path.join(INPUT_DATA_DIR, 'aero-astro-abstracts/aiaa_dataset.xls')) \n",
    "raw_df.head()"
   ]
  },
  {
   "cell_type": "markdown",
   "id": "49f78d56",
   "metadata": {},
   "source": [
    "## Explore and preprocess the data"
   ]
  },
  {
   "cell_type": "code",
   "execution_count": 4,
   "id": "ae901a9e",
   "metadata": {},
   "outputs": [
    {
     "data": {
      "text/plain": [
       "(493, 4)"
      ]
     },
     "execution_count": 4,
     "metadata": {},
     "output_type": "execute_result"
    }
   ],
   "source": [
    "raw_df.shape"
   ]
  },
  {
   "cell_type": "code",
   "execution_count": 5,
   "id": "7a1a91fb",
   "metadata": {},
   "outputs": [
    {
     "data": {
      "text/plain": [
       "title       False\n",
       "abstract    False\n",
       "journal     False\n",
       "volume      False\n",
       "dtype: bool"
      ]
     },
     "execution_count": 5,
     "metadata": {},
     "output_type": "execute_result"
    }
   ],
   "source": [
    "# check out the columns with nulls\n",
    "raw_df.isnull().any()"
   ]
  },
  {
   "cell_type": "code",
   "execution_count": 6,
   "id": "68160205",
   "metadata": {},
   "outputs": [
    {
     "name": "stdout",
     "output_type": "stream",
     "text": [
      "Number of duplicates: 1\n",
      "Shape of the data after removing duplicates (492, 4)\n"
     ]
    }
   ],
   "source": [
    "# check out the duplicates and drop if exist\n",
    "duplicated_rows = raw_df[raw_df.duplicated().values == True]\n",
    "print(f'Number of duplicates: {len(duplicated_rows)}')\n",
    "\n",
    "raw_df.drop_duplicates(inplace=True, ignore_index=False)\n",
    "print(f'Shape of the data after removing duplicates {raw_df.shape}')"
   ]
  },
  {
   "cell_type": "code",
   "execution_count": 7,
   "id": "c2a6379a",
   "metadata": {},
   "outputs": [
    {
     "name": "stdout",
     "output_type": "stream",
     "text": [
      "Number of unique values per column\n",
      "title       474\n",
      "abstract    474\n",
      "journal       2\n",
      "volume       25\n",
      "dtype: int64\n",
      "\n",
      "Unique values in the volume column: [33.1 33.2 33.3 33.4 34.1 34.2 34.3 34.4 34.5 35.1 35.2 35.3 35.4 35.5\n",
      " 35.6 36.1 36.2 36.3 36.4 36.5 36.6 37.1 37.2 37.3 37.4]\n",
      "\n",
      "Unique values in the journal column: ['JPP' 'JTHT']\n"
     ]
    }
   ],
   "source": [
    "# check unique values in columns\n",
    "print('Number of unique values per column')\n",
    "print(raw_df.nunique())\n",
    "    \n",
    "a = raw_df['volume'].unique()\n",
    "a.sort()\n",
    "print(f'\\nUnique values in the volume column: {a}')\n",
    "\n",
    "b = raw_df['journal'].unique()\n",
    "print(f'\\nUnique values in the journal column: {b}')"
   ]
  },
  {
   "cell_type": "markdown",
   "id": "e93c5947",
   "metadata": {},
   "source": [
    "We see that title and abstract columns have 474 unique values while the total number of rows is 492. We look at the repeated values of titles and abstracts"
   ]
  },
  {
   "cell_type": "code",
   "execution_count": 8,
   "id": "9558677e",
   "metadata": {},
   "outputs": [
    {
     "data": {
      "text/html": [
       "<div>\n",
       "<style scoped>\n",
       "    .dataframe tbody tr th:only-of-type {\n",
       "        vertical-align: middle;\n",
       "    }\n",
       "\n",
       "    .dataframe tbody tr th {\n",
       "        vertical-align: top;\n",
       "    }\n",
       "\n",
       "    .dataframe thead th {\n",
       "        text-align: right;\n",
       "    }\n",
       "</style>\n",
       "<table border=\"1\" class=\"dataframe\">\n",
       "  <thead>\n",
       "    <tr style=\"text-align: right;\">\n",
       "      <th></th>\n",
       "      <th>title</th>\n",
       "      <th>abstract</th>\n",
       "      <th>journal</th>\n",
       "      <th>volume</th>\n",
       "    </tr>\n",
       "  </thead>\n",
       "  <tbody>\n",
       "    <tr>\n",
       "      <th>314</th>\n",
       "      <td>Analysis on Fluid-Induced Vibration and Heat T...</td>\n",
       "      <td>The study on fluid-induced vibration of helica...</td>\n",
       "      <td>JTHT</td>\n",
       "      <td>34.5</td>\n",
       "    </tr>\n",
       "    <tr>\n",
       "      <th>296</th>\n",
       "      <td>Analysis on Fluid-Induced Vibration and Heat T...</td>\n",
       "      <td>The study on fluid-induced vibration of helica...</td>\n",
       "      <td>JTHT</td>\n",
       "      <td>35.1</td>\n",
       "    </tr>\n",
       "    <tr>\n",
       "      <th>301</th>\n",
       "      <td>Effect of Flow Normalization in Micro-Pin-Finn...</td>\n",
       "      <td>The micro-pin-fin heat sink (MPFHS) is widely ...</td>\n",
       "      <td>JTHT</td>\n",
       "      <td>34.5</td>\n",
       "    </tr>\n",
       "    <tr>\n",
       "      <th>283</th>\n",
       "      <td>Effect of Flow Normalization in Micro-Pin-Finn...</td>\n",
       "      <td>The micro-pin-fin heat sink (MPFHS) is widely ...</td>\n",
       "      <td>JTHT</td>\n",
       "      <td>35.1</td>\n",
       "    </tr>\n",
       "    <tr>\n",
       "      <th>286</th>\n",
       "      <td>Effect of Insulations and Coatings on Hyperson...</td>\n",
       "      <td>The present study investigates the effects of ...</td>\n",
       "      <td>JTHT</td>\n",
       "      <td>35.1</td>\n",
       "    </tr>\n",
       "    <tr>\n",
       "      <th>304</th>\n",
       "      <td>Effect of Insulations and Coatings on Hyperson...</td>\n",
       "      <td>The present study investigates the effects of ...</td>\n",
       "      <td>JTHT</td>\n",
       "      <td>34.5</td>\n",
       "    </tr>\n",
       "    <tr>\n",
       "      <th>309</th>\n",
       "      <td>Enhanced Mixed Convection in a Vertical Channe...</td>\n",
       "      <td>In this Paper, two-dimensional unsteady lamina...</td>\n",
       "      <td>JTHT</td>\n",
       "      <td>34.5</td>\n",
       "    </tr>\n",
       "    <tr>\n",
       "      <th>291</th>\n",
       "      <td>Enhanced Mixed Convection in a Vertical Channe...</td>\n",
       "      <td>In this Paper, two-dimensional unsteady lamina...</td>\n",
       "      <td>JTHT</td>\n",
       "      <td>35.1</td>\n",
       "    </tr>\n",
       "    <tr>\n",
       "      <th>312</th>\n",
       "      <td>Enhancement of the Hydrothermal Characteristic...</td>\n",
       "      <td>Geometrical configurations of tubes and vortex...</td>\n",
       "      <td>JTHT</td>\n",
       "      <td>34.5</td>\n",
       "    </tr>\n",
       "    <tr>\n",
       "      <th>294</th>\n",
       "      <td>Enhancement of the Hydrothermal Characteristic...</td>\n",
       "      <td>Geometrical configurations of tubes and vortex...</td>\n",
       "      <td>JTHT</td>\n",
       "      <td>35.1</td>\n",
       "    </tr>\n",
       "    <tr>\n",
       "      <th>290</th>\n",
       "      <td>Experimental Evaluation of the Long-Wave Infra...</td>\n",
       "      <td>An experimental method is reported for the eva...</td>\n",
       "      <td>JTHT</td>\n",
       "      <td>35.1</td>\n",
       "    </tr>\n",
       "    <tr>\n",
       "      <th>308</th>\n",
       "      <td>Experimental Evaluation of the Long-Wave Infra...</td>\n",
       "      <td>An experimental method is reported for the eva...</td>\n",
       "      <td>JTHT</td>\n",
       "      <td>34.5</td>\n",
       "    </tr>\n",
       "    <tr>\n",
       "      <th>297</th>\n",
       "      <td>Experimental Investigation of the Performance ...</td>\n",
       "      <td>To decrease the heating and cooling demand of ...</td>\n",
       "      <td>JTHT</td>\n",
       "      <td>35.1</td>\n",
       "    </tr>\n",
       "    <tr>\n",
       "      <th>315</th>\n",
       "      <td>Experimental Investigation of the Performance ...</td>\n",
       "      <td>To decrease the heating and cooling demand of ...</td>\n",
       "      <td>JTHT</td>\n",
       "      <td>34.5</td>\n",
       "    </tr>\n",
       "    <tr>\n",
       "      <th>303</th>\n",
       "      <td>Flow and Mass Transfer of Pyrolytic Aviation K...</td>\n",
       "      <td>Surface coking is significantly affected by th...</td>\n",
       "      <td>JTHT</td>\n",
       "      <td>34.5</td>\n",
       "    </tr>\n",
       "    <tr>\n",
       "      <th>285</th>\n",
       "      <td>Flow and Mass Transfer of Pyrolytic Aviation K...</td>\n",
       "      <td>Surface coking is significantly affected by th...</td>\n",
       "      <td>JTHT</td>\n",
       "      <td>35.1</td>\n",
       "    </tr>\n",
       "    <tr>\n",
       "      <th>305</th>\n",
       "      <td>Forward and Inverse Analyses of Two-Dimensiona...</td>\n",
       "      <td>Heat transfer under space restriction is a cha...</td>\n",
       "      <td>JTHT</td>\n",
       "      <td>34.5</td>\n",
       "    </tr>\n",
       "    <tr>\n",
       "      <th>287</th>\n",
       "      <td>Forward and Inverse Analyses of Two-Dimensiona...</td>\n",
       "      <td>Heat transfer under space restriction is a cha...</td>\n",
       "      <td>JTHT</td>\n",
       "      <td>35.1</td>\n",
       "    </tr>\n",
       "    <tr>\n",
       "      <th>298</th>\n",
       "      <td>Global Sensitivity Analysis Based on BP Neural...</td>\n",
       "      <td>In order to obtain the thermal design paramete...</td>\n",
       "      <td>JTHT</td>\n",
       "      <td>35.1</td>\n",
       "    </tr>\n",
       "    <tr>\n",
       "      <th>316</th>\n",
       "      <td>Global Sensitivity Analysis Based on BP Neural...</td>\n",
       "      <td>In order to obtain the thermal design paramete...</td>\n",
       "      <td>JTHT</td>\n",
       "      <td>34.5</td>\n",
       "    </tr>\n",
       "    <tr>\n",
       "      <th>299</th>\n",
       "      <td>Impact of Sharp Versus Rounded Edge of Turbula...</td>\n",
       "      <td>Considering the constraints of manufacturing s...</td>\n",
       "      <td>JTHT</td>\n",
       "      <td>34.5</td>\n",
       "    </tr>\n",
       "    <tr>\n",
       "      <th>281</th>\n",
       "      <td>Impact of Sharp Versus Rounded Edge of Turbula...</td>\n",
       "      <td>Considering the constraints of manufacturing s...</td>\n",
       "      <td>JTHT</td>\n",
       "      <td>35.1</td>\n",
       "    </tr>\n",
       "    <tr>\n",
       "      <th>307</th>\n",
       "      <td>Investigation of Mixing Law Efficacy for Gaseo...</td>\n",
       "      <td>A computational simulation of various mixing l...</td>\n",
       "      <td>JTHT</td>\n",
       "      <td>34.5</td>\n",
       "    </tr>\n",
       "    <tr>\n",
       "      <th>289</th>\n",
       "      <td>Investigation of Mixing Law Efficacy for Gaseo...</td>\n",
       "      <td>A computational simulation of various mixing l...</td>\n",
       "      <td>JTHT</td>\n",
       "      <td>35.1</td>\n",
       "    </tr>\n",
       "    <tr>\n",
       "      <th>306</th>\n",
       "      <td>Model for Rapidly Computing the Highest Temper...</td>\n",
       "      <td>This paper proposes an analytical model for co...</td>\n",
       "      <td>JTHT</td>\n",
       "      <td>34.5</td>\n",
       "    </tr>\n",
       "    <tr>\n",
       "      <th>288</th>\n",
       "      <td>Model for Rapidly Computing the Highest Temper...</td>\n",
       "      <td>This paper proposes an analytical model for co...</td>\n",
       "      <td>JTHT</td>\n",
       "      <td>35.1</td>\n",
       "    </tr>\n",
       "    <tr>\n",
       "      <th>282</th>\n",
       "      <td>Numerical Simulation of Bubble Dynamics in Sub...</td>\n",
       "      <td>In this Paper, the lattice Boltzmann method (L...</td>\n",
       "      <td>JTHT</td>\n",
       "      <td>35.1</td>\n",
       "    </tr>\n",
       "    <tr>\n",
       "      <th>300</th>\n",
       "      <td>Numerical Simulation of Bubble Dynamics in Sub...</td>\n",
       "      <td>In this Paper, the lattice Boltzmann method (L...</td>\n",
       "      <td>JTHT</td>\n",
       "      <td>34.5</td>\n",
       "    </tr>\n",
       "    <tr>\n",
       "      <th>293</th>\n",
       "      <td>Parahydrogen–Orthohydrogen Conversion on Catal...</td>\n",
       "      <td>As long-distance human space travel becomes mo...</td>\n",
       "      <td>JTHT</td>\n",
       "      <td>35.1</td>\n",
       "    </tr>\n",
       "    <tr>\n",
       "      <th>311</th>\n",
       "      <td>Parahydrogen–Orthohydrogen Conversion on Catal...</td>\n",
       "      <td>As long-distance human space travel becomes mo...</td>\n",
       "      <td>JTHT</td>\n",
       "      <td>34.5</td>\n",
       "    </tr>\n",
       "    <tr>\n",
       "      <th>295</th>\n",
       "      <td>Research on Vibration and Heat Transfer in Hea...</td>\n",
       "      <td>For realizing effective vibration excitation a...</td>\n",
       "      <td>JTHT</td>\n",
       "      <td>35.1</td>\n",
       "    </tr>\n",
       "    <tr>\n",
       "      <th>313</th>\n",
       "      <td>Research on Vibration and Heat Transfer in Hea...</td>\n",
       "      <td>For realizing effective vibration excitation a...</td>\n",
       "      <td>JTHT</td>\n",
       "      <td>34.5</td>\n",
       "    </tr>\n",
       "    <tr>\n",
       "      <th>302</th>\n",
       "      <td>Solution of Maxwell’s Equations for Nonrectang...</td>\n",
       "      <td>The use of a fourth-order modified Runge–Kutta...</td>\n",
       "      <td>JTHT</td>\n",
       "      <td>34.5</td>\n",
       "    </tr>\n",
       "    <tr>\n",
       "      <th>284</th>\n",
       "      <td>Solution of Maxwell’s Equations for Nonrectang...</td>\n",
       "      <td>The use of a fourth-order modified Runge–Kutta...</td>\n",
       "      <td>JTHT</td>\n",
       "      <td>35.1</td>\n",
       "    </tr>\n",
       "    <tr>\n",
       "      <th>292</th>\n",
       "      <td>Wall Heat Flux Evaluation in Regeneratively Co...</td>\n",
       "      <td>In the present Paper, different wall heat flux...</td>\n",
       "      <td>JTHT</td>\n",
       "      <td>35.1</td>\n",
       "    </tr>\n",
       "    <tr>\n",
       "      <th>310</th>\n",
       "      <td>Wall Heat Flux Evaluation in Regeneratively Co...</td>\n",
       "      <td>In the present Paper, different wall heat flux...</td>\n",
       "      <td>JTHT</td>\n",
       "      <td>34.5</td>\n",
       "    </tr>\n",
       "  </tbody>\n",
       "</table>\n",
       "</div>"
      ],
      "text/plain": [
       "                                                 title  \\\n",
       "314  Analysis on Fluid-Induced Vibration and Heat T...   \n",
       "296  Analysis on Fluid-Induced Vibration and Heat T...   \n",
       "301  Effect of Flow Normalization in Micro-Pin-Finn...   \n",
       "283  Effect of Flow Normalization in Micro-Pin-Finn...   \n",
       "286  Effect of Insulations and Coatings on Hyperson...   \n",
       "304  Effect of Insulations and Coatings on Hyperson...   \n",
       "309  Enhanced Mixed Convection in a Vertical Channe...   \n",
       "291  Enhanced Mixed Convection in a Vertical Channe...   \n",
       "312  Enhancement of the Hydrothermal Characteristic...   \n",
       "294  Enhancement of the Hydrothermal Characteristic...   \n",
       "290  Experimental Evaluation of the Long-Wave Infra...   \n",
       "308  Experimental Evaluation of the Long-Wave Infra...   \n",
       "297  Experimental Investigation of the Performance ...   \n",
       "315  Experimental Investigation of the Performance ...   \n",
       "303  Flow and Mass Transfer of Pyrolytic Aviation K...   \n",
       "285  Flow and Mass Transfer of Pyrolytic Aviation K...   \n",
       "305  Forward and Inverse Analyses of Two-Dimensiona...   \n",
       "287  Forward and Inverse Analyses of Two-Dimensiona...   \n",
       "298  Global Sensitivity Analysis Based on BP Neural...   \n",
       "316  Global Sensitivity Analysis Based on BP Neural...   \n",
       "299  Impact of Sharp Versus Rounded Edge of Turbula...   \n",
       "281  Impact of Sharp Versus Rounded Edge of Turbula...   \n",
       "307  Investigation of Mixing Law Efficacy for Gaseo...   \n",
       "289  Investigation of Mixing Law Efficacy for Gaseo...   \n",
       "306  Model for Rapidly Computing the Highest Temper...   \n",
       "288  Model for Rapidly Computing the Highest Temper...   \n",
       "282  Numerical Simulation of Bubble Dynamics in Sub...   \n",
       "300  Numerical Simulation of Bubble Dynamics in Sub...   \n",
       "293  Parahydrogen–Orthohydrogen Conversion on Catal...   \n",
       "311  Parahydrogen–Orthohydrogen Conversion on Catal...   \n",
       "295  Research on Vibration and Heat Transfer in Hea...   \n",
       "313  Research on Vibration and Heat Transfer in Hea...   \n",
       "302  Solution of Maxwell’s Equations for Nonrectang...   \n",
       "284  Solution of Maxwell’s Equations for Nonrectang...   \n",
       "292  Wall Heat Flux Evaluation in Regeneratively Co...   \n",
       "310  Wall Heat Flux Evaluation in Regeneratively Co...   \n",
       "\n",
       "                                              abstract journal  volume  \n",
       "314  The study on fluid-induced vibration of helica...    JTHT    34.5  \n",
       "296  The study on fluid-induced vibration of helica...    JTHT    35.1  \n",
       "301  The micro-pin-fin heat sink (MPFHS) is widely ...    JTHT    34.5  \n",
       "283  The micro-pin-fin heat sink (MPFHS) is widely ...    JTHT    35.1  \n",
       "286  The present study investigates the effects of ...    JTHT    35.1  \n",
       "304  The present study investigates the effects of ...    JTHT    34.5  \n",
       "309  In this Paper, two-dimensional unsteady lamina...    JTHT    34.5  \n",
       "291  In this Paper, two-dimensional unsteady lamina...    JTHT    35.1  \n",
       "312  Geometrical configurations of tubes and vortex...    JTHT    34.5  \n",
       "294  Geometrical configurations of tubes and vortex...    JTHT    35.1  \n",
       "290  An experimental method is reported for the eva...    JTHT    35.1  \n",
       "308  An experimental method is reported for the eva...    JTHT    34.5  \n",
       "297  To decrease the heating and cooling demand of ...    JTHT    35.1  \n",
       "315  To decrease the heating and cooling demand of ...    JTHT    34.5  \n",
       "303  Surface coking is significantly affected by th...    JTHT    34.5  \n",
       "285  Surface coking is significantly affected by th...    JTHT    35.1  \n",
       "305  Heat transfer under space restriction is a cha...    JTHT    34.5  \n",
       "287  Heat transfer under space restriction is a cha...    JTHT    35.1  \n",
       "298  In order to obtain the thermal design paramete...    JTHT    35.1  \n",
       "316  In order to obtain the thermal design paramete...    JTHT    34.5  \n",
       "299  Considering the constraints of manufacturing s...    JTHT    34.5  \n",
       "281  Considering the constraints of manufacturing s...    JTHT    35.1  \n",
       "307  A computational simulation of various mixing l...    JTHT    34.5  \n",
       "289  A computational simulation of various mixing l...    JTHT    35.1  \n",
       "306  This paper proposes an analytical model for co...    JTHT    34.5  \n",
       "288  This paper proposes an analytical model for co...    JTHT    35.1  \n",
       "282  In this Paper, the lattice Boltzmann method (L...    JTHT    35.1  \n",
       "300  In this Paper, the lattice Boltzmann method (L...    JTHT    34.5  \n",
       "293  As long-distance human space travel becomes mo...    JTHT    35.1  \n",
       "311  As long-distance human space travel becomes mo...    JTHT    34.5  \n",
       "295  For realizing effective vibration excitation a...    JTHT    35.1  \n",
       "313  For realizing effective vibration excitation a...    JTHT    34.5  \n",
       "302  The use of a fourth-order modified Runge–Kutta...    JTHT    34.5  \n",
       "284  The use of a fourth-order modified Runge–Kutta...    JTHT    35.1  \n",
       "292  In the present Paper, different wall heat flux...    JTHT    35.1  \n",
       "310  In the present Paper, different wall heat flux...    JTHT    34.5  "
      ]
     },
     "execution_count": 8,
     "metadata": {},
     "output_type": "execute_result"
    }
   ],
   "source": [
    "similar_rows = raw_df[\n",
    "    np.logical_and(\n",
    "        (raw_df['title'].duplicated().values == True), \n",
    "        (raw_df['abstract'].duplicated().values == True),\n",
    "        (raw_df['journal'].duplicated().values == True)\n",
    "    )\n",
    "]\n",
    "\n",
    "raw_df[raw_df['title'].isin(similar_rows['title'].tolist())].sort_values(by='title')"
   ]
  },
  {
   "cell_type": "markdown",
   "id": "31dbc6e0",
   "metadata": {},
   "source": [
    "Values of the title, abstract and journal are repeated in the subset above. The only difference is volume (35.1/34.5). We can remove the similar rows because the information important for the task is in the first 3 columns"
   ]
  },
  {
   "cell_type": "code",
   "execution_count": 9,
   "id": "1d02bdab",
   "metadata": {},
   "outputs": [
    {
     "data": {
      "text/html": [
       "<div>\n",
       "<style scoped>\n",
       "    .dataframe tbody tr th:only-of-type {\n",
       "        vertical-align: middle;\n",
       "    }\n",
       "\n",
       "    .dataframe tbody tr th {\n",
       "        vertical-align: top;\n",
       "    }\n",
       "\n",
       "    .dataframe thead th {\n",
       "        text-align: right;\n",
       "    }\n",
       "</style>\n",
       "<table border=\"1\" class=\"dataframe\">\n",
       "  <thead>\n",
       "    <tr style=\"text-align: right;\">\n",
       "      <th></th>\n",
       "      <th>title</th>\n",
       "      <th>abstract</th>\n",
       "      <th>journal</th>\n",
       "      <th>volume</th>\n",
       "    </tr>\n",
       "  </thead>\n",
       "  <tbody>\n",
       "    <tr>\n",
       "      <th>296</th>\n",
       "      <td>Analysis on Fluid-Induced Vibration and Heat T...</td>\n",
       "      <td>The study on fluid-induced vibration of helica...</td>\n",
       "      <td>JTHT</td>\n",
       "      <td>35.1</td>\n",
       "    </tr>\n",
       "    <tr>\n",
       "      <th>283</th>\n",
       "      <td>Effect of Flow Normalization in Micro-Pin-Finn...</td>\n",
       "      <td>The micro-pin-fin heat sink (MPFHS) is widely ...</td>\n",
       "      <td>JTHT</td>\n",
       "      <td>35.1</td>\n",
       "    </tr>\n",
       "    <tr>\n",
       "      <th>286</th>\n",
       "      <td>Effect of Insulations and Coatings on Hyperson...</td>\n",
       "      <td>The present study investigates the effects of ...</td>\n",
       "      <td>JTHT</td>\n",
       "      <td>35.1</td>\n",
       "    </tr>\n",
       "    <tr>\n",
       "      <th>291</th>\n",
       "      <td>Enhanced Mixed Convection in a Vertical Channe...</td>\n",
       "      <td>In this Paper, two-dimensional unsteady lamina...</td>\n",
       "      <td>JTHT</td>\n",
       "      <td>35.1</td>\n",
       "    </tr>\n",
       "    <tr>\n",
       "      <th>294</th>\n",
       "      <td>Enhancement of the Hydrothermal Characteristic...</td>\n",
       "      <td>Geometrical configurations of tubes and vortex...</td>\n",
       "      <td>JTHT</td>\n",
       "      <td>35.1</td>\n",
       "    </tr>\n",
       "    <tr>\n",
       "      <th>290</th>\n",
       "      <td>Experimental Evaluation of the Long-Wave Infra...</td>\n",
       "      <td>An experimental method is reported for the eva...</td>\n",
       "      <td>JTHT</td>\n",
       "      <td>35.1</td>\n",
       "    </tr>\n",
       "    <tr>\n",
       "      <th>297</th>\n",
       "      <td>Experimental Investigation of the Performance ...</td>\n",
       "      <td>To decrease the heating and cooling demand of ...</td>\n",
       "      <td>JTHT</td>\n",
       "      <td>35.1</td>\n",
       "    </tr>\n",
       "    <tr>\n",
       "      <th>285</th>\n",
       "      <td>Flow and Mass Transfer of Pyrolytic Aviation K...</td>\n",
       "      <td>Surface coking is significantly affected by th...</td>\n",
       "      <td>JTHT</td>\n",
       "      <td>35.1</td>\n",
       "    </tr>\n",
       "    <tr>\n",
       "      <th>287</th>\n",
       "      <td>Forward and Inverse Analyses of Two-Dimensiona...</td>\n",
       "      <td>Heat transfer under space restriction is a cha...</td>\n",
       "      <td>JTHT</td>\n",
       "      <td>35.1</td>\n",
       "    </tr>\n",
       "    <tr>\n",
       "      <th>298</th>\n",
       "      <td>Global Sensitivity Analysis Based on BP Neural...</td>\n",
       "      <td>In order to obtain the thermal design paramete...</td>\n",
       "      <td>JTHT</td>\n",
       "      <td>35.1</td>\n",
       "    </tr>\n",
       "    <tr>\n",
       "      <th>281</th>\n",
       "      <td>Impact of Sharp Versus Rounded Edge of Turbula...</td>\n",
       "      <td>Considering the constraints of manufacturing s...</td>\n",
       "      <td>JTHT</td>\n",
       "      <td>35.1</td>\n",
       "    </tr>\n",
       "    <tr>\n",
       "      <th>289</th>\n",
       "      <td>Investigation of Mixing Law Efficacy for Gaseo...</td>\n",
       "      <td>A computational simulation of various mixing l...</td>\n",
       "      <td>JTHT</td>\n",
       "      <td>35.1</td>\n",
       "    </tr>\n",
       "    <tr>\n",
       "      <th>288</th>\n",
       "      <td>Model for Rapidly Computing the Highest Temper...</td>\n",
       "      <td>This paper proposes an analytical model for co...</td>\n",
       "      <td>JTHT</td>\n",
       "      <td>35.1</td>\n",
       "    </tr>\n",
       "    <tr>\n",
       "      <th>282</th>\n",
       "      <td>Numerical Simulation of Bubble Dynamics in Sub...</td>\n",
       "      <td>In this Paper, the lattice Boltzmann method (L...</td>\n",
       "      <td>JTHT</td>\n",
       "      <td>35.1</td>\n",
       "    </tr>\n",
       "    <tr>\n",
       "      <th>293</th>\n",
       "      <td>Parahydrogen–Orthohydrogen Conversion on Catal...</td>\n",
       "      <td>As long-distance human space travel becomes mo...</td>\n",
       "      <td>JTHT</td>\n",
       "      <td>35.1</td>\n",
       "    </tr>\n",
       "    <tr>\n",
       "      <th>295</th>\n",
       "      <td>Research on Vibration and Heat Transfer in Hea...</td>\n",
       "      <td>For realizing effective vibration excitation a...</td>\n",
       "      <td>JTHT</td>\n",
       "      <td>35.1</td>\n",
       "    </tr>\n",
       "    <tr>\n",
       "      <th>284</th>\n",
       "      <td>Solution of Maxwell’s Equations for Nonrectang...</td>\n",
       "      <td>The use of a fourth-order modified Runge–Kutta...</td>\n",
       "      <td>JTHT</td>\n",
       "      <td>35.1</td>\n",
       "    </tr>\n",
       "    <tr>\n",
       "      <th>292</th>\n",
       "      <td>Wall Heat Flux Evaluation in Regeneratively Co...</td>\n",
       "      <td>In the present Paper, different wall heat flux...</td>\n",
       "      <td>JTHT</td>\n",
       "      <td>35.1</td>\n",
       "    </tr>\n",
       "  </tbody>\n",
       "</table>\n",
       "</div>"
      ],
      "text/plain": [
       "                                                 title  \\\n",
       "296  Analysis on Fluid-Induced Vibration and Heat T...   \n",
       "283  Effect of Flow Normalization in Micro-Pin-Finn...   \n",
       "286  Effect of Insulations and Coatings on Hyperson...   \n",
       "291  Enhanced Mixed Convection in a Vertical Channe...   \n",
       "294  Enhancement of the Hydrothermal Characteristic...   \n",
       "290  Experimental Evaluation of the Long-Wave Infra...   \n",
       "297  Experimental Investigation of the Performance ...   \n",
       "285  Flow and Mass Transfer of Pyrolytic Aviation K...   \n",
       "287  Forward and Inverse Analyses of Two-Dimensiona...   \n",
       "298  Global Sensitivity Analysis Based on BP Neural...   \n",
       "281  Impact of Sharp Versus Rounded Edge of Turbula...   \n",
       "289  Investigation of Mixing Law Efficacy for Gaseo...   \n",
       "288  Model for Rapidly Computing the Highest Temper...   \n",
       "282  Numerical Simulation of Bubble Dynamics in Sub...   \n",
       "293  Parahydrogen–Orthohydrogen Conversion on Catal...   \n",
       "295  Research on Vibration and Heat Transfer in Hea...   \n",
       "284  Solution of Maxwell’s Equations for Nonrectang...   \n",
       "292  Wall Heat Flux Evaluation in Regeneratively Co...   \n",
       "\n",
       "                                              abstract journal  volume  \n",
       "296  The study on fluid-induced vibration of helica...    JTHT    35.1  \n",
       "283  The micro-pin-fin heat sink (MPFHS) is widely ...    JTHT    35.1  \n",
       "286  The present study investigates the effects of ...    JTHT    35.1  \n",
       "291  In this Paper, two-dimensional unsteady lamina...    JTHT    35.1  \n",
       "294  Geometrical configurations of tubes and vortex...    JTHT    35.1  \n",
       "290  An experimental method is reported for the eva...    JTHT    35.1  \n",
       "297  To decrease the heating and cooling demand of ...    JTHT    35.1  \n",
       "285  Surface coking is significantly affected by th...    JTHT    35.1  \n",
       "287  Heat transfer under space restriction is a cha...    JTHT    35.1  \n",
       "298  In order to obtain the thermal design paramete...    JTHT    35.1  \n",
       "281  Considering the constraints of manufacturing s...    JTHT    35.1  \n",
       "289  A computational simulation of various mixing l...    JTHT    35.1  \n",
       "288  This paper proposes an analytical model for co...    JTHT    35.1  \n",
       "282  In this Paper, the lattice Boltzmann method (L...    JTHT    35.1  \n",
       "293  As long-distance human space travel becomes mo...    JTHT    35.1  \n",
       "295  For realizing effective vibration excitation a...    JTHT    35.1  \n",
       "284  The use of a fourth-order modified Runge–Kutta...    JTHT    35.1  \n",
       "292  In the present Paper, different wall heat flux...    JTHT    35.1  "
      ]
     },
     "execution_count": 9,
     "metadata": {},
     "output_type": "execute_result"
    }
   ],
   "source": [
    "raw_df.drop(similar_rows.index, inplace=True)\n",
    "raw_df[raw_df['title'].isin(similar_rows['title'].tolist())].sort_values(by='title')"
   ]
  },
  {
   "cell_type": "markdown",
   "id": "296240b9",
   "metadata": {},
   "source": [
    "## Split data and leave the test data only for testing\n",
    "We will retrieve a text vocabulary only from the training data and the test data will remain unseen for our model"
   ]
  },
  {
   "cell_type": "code",
   "execution_count": 10,
   "id": "bae9b353",
   "metadata": {},
   "outputs": [
    {
     "data": {
      "text/plain": [
       "(95, 4)"
      ]
     },
     "execution_count": 10,
     "metadata": {},
     "output_type": "execute_result"
    }
   ],
   "source": [
    "raw_df_train, raw_df_test = train_test_split(raw_df, test_size=0.2, stratify=raw_df['journal'])\n",
    "raw_df_test.shape"
   ]
  },
  {
   "cell_type": "markdown",
   "id": "c1b862d1",
   "metadata": {},
   "source": [
    "## Retrieve vocabulary from text data using Natural Language Toolkit\n",
    "@ Steven Bird, Ewan Klein, and Edward Loper (2009). Natural Language Processing with Python. O’Reilly Media Inc. https://www.nltk.org/book\n",
    "\n",
    "We will explore vocabulary of each type of journals"
   ]
  },
  {
   "cell_type": "code",
   "execution_count": 11,
   "id": "02f515cc",
   "metadata": {},
   "outputs": [],
   "source": [
    "# retrieve combined text as well as text per each journal\n",
    "raw_df_train.loc[:, 'text'] = raw_df_train.loc[:, 'title'] + ' ' + raw_df_train.loc[:, 'abstract']\n",
    "text_data = raw_df_train.loc[:, 'text'].tolist()\n",
    "\n",
    "text_jpp = raw_df_train.loc[raw_df_train['journal'] == 'JPP', 'text'].tolist()\n",
    "text_jtht = raw_df_train.loc[raw_df_train['journal'] == 'JTHT', 'text'].tolist()"
   ]
  },
  {
   "cell_type": "code",
   "execution_count": 12,
   "id": "7c249d52",
   "metadata": {},
   "outputs": [
    {
     "name": "stdout",
     "output_type": "stream",
     "text": [
      "Size of full vocabulary: 7409\n",
      "Size of JPP vocabulary: 4952\n",
      "Size of JTHT vocabulary: 4740\n"
     ]
    }
   ],
   "source": [
    "# we transform text into lowercase, split it into sentences and then into word tokens\n",
    "tokens_all = nltk.word_tokenize(' '.join(nltk.sent_tokenize(' '.join(text_data).lower())))\n",
    "tokens_jpp = nltk.word_tokenize(' '.join(nltk.sent_tokenize(' '.join(text_jpp).lower())))\n",
    "tokens_jtht = nltk.word_tokenize(' '.join(nltk.sent_tokenize(' '.join(text_jtht).lower())))\n",
    "\n",
    "vocabulary_all = sorted(set(tokens_all))\n",
    "vocabulary_jpp = sorted(set(tokens_jpp))\n",
    "vocabulary_jtht = sorted(set(tokens_jtht))\n",
    "\n",
    "print(f'Size of full vocabulary: {len(vocabulary_all)}')\n",
    "print(f'Size of JPP vocabulary: {len(vocabulary_jpp)}')\n",
    "print(f'Size of JTHT vocabulary: {len(vocabulary_jtht)}')\n"
   ]
  },
  {
   "cell_type": "code",
   "execution_count": 13,
   "id": "aa600565",
   "metadata": {},
   "outputs": [
    {
     "name": "stdout",
     "output_type": "stream",
     "text": [
      "Number of common tokens: 2283\n",
      "Number of JPP specific tokens: 2669\n",
      "Number of JTHT specific tokens:  2457\n"
     ]
    }
   ],
   "source": [
    "# select vocabulary common for both journals \n",
    "vocabulary_common = [x for x in vocabulary_jpp if x in vocabulary_jtht]\n",
    "\n",
    "# as well as the specific vocabulary per each journal\n",
    "vocabulary_jpp_unique = [x for x in vocabulary_jpp if x not in vocabulary_common]\n",
    "vocabulary_jtht_unique = [x for x in vocabulary_jtht if x not in vocabulary_common]\n",
    "\n",
    "print(f'Number of common tokens: {len(vocabulary_common)}')\n",
    "print(f'Number of JPP specific tokens: {len(vocabulary_jpp_unique)}')\n",
    "print(f'Number of JTHT specific tokens:  {len(vocabulary_jtht_unique)}')"
   ]
  },
  {
   "cell_type": "markdown",
   "id": "c5d6802c",
   "metadata": {},
   "source": [
    "## Find the most frequent tokens unique for the each type of journal"
   ]
  },
  {
   "cell_type": "code",
   "execution_count": 14,
   "id": "4d74b80c",
   "metadata": {},
   "outputs": [
    {
     "name": "stdout",
     "output_type": "stream",
     "text": [
      "The most frequent 30 words unique per type of journal\n",
      "\n",
      "JPP journal: \n",
      "['ignition', 'injector', 'burning', 'combustor', 'detonation', 'oxidizer', 'hall', 'release', 'thrusters', 'acoustic', 'hypergolic', 'stall', 'rde', 'injectors', 'cavitation', 'kw', 'delays', 'pulse', 'firing', 'peroxide', 'paraffin', 'nitrous', 'hollow', 'burn', 'boron', 'powders', 'reactive', 'stabilization', 'scale', 'atomization']\n",
      "\n",
      "JTHT journal: \n",
      "['hypersonic', 'nusselt', 'nanofluid', 'conductivity', 'vibration', 'enclosure', 'sink', 'ribs', 'recombination', 'solve', 'microchannel', 'fluids', 'protection', 'knudsen', 'pid', 'darcy', 'friction', 'nanofluids', 'calibration', 'filled', 'dimensionless', 'forced', 'reentry', 'shock-tube', 'vibrational', 'boyle', 'mchs', 'infiltration', 'oscillatory', 'arcjet']\n"
     ]
    }
   ],
   "source": [
    "word_freq_jpp = nltk.FreqDist(w for w in tokens_jpp if w not in vocabulary_common)\n",
    "word_freq_jtht = nltk.FreqDist(w for w in tokens_jtht if w not in vocabulary_common)\n",
    "\n",
    "def print_most_frequent_words(n_words = 30):\n",
    "    \n",
    "    print(f'The most frequent {n_words} words unique per type of journal\\n')\n",
    "    print(f'JPP journal: \\n{list(word_freq_jpp)[:30]}\\n')\n",
    "    print(f'JTHT journal: \\n{list(word_freq_jtht)[:30]}')\n",
    "    \n",
    "print_most_frequent_words()"
   ]
  },
  {
   "cell_type": "markdown",
   "id": "40aac40b",
   "metadata": {},
   "source": [
    "## Text Data Cleaning\n",
    "Let's remove stop words, punctuation, numbers, single sybmol words and arithmetic expressions from the  vocabulary"
   ]
  },
  {
   "cell_type": "code",
   "execution_count": 15,
   "id": "5f1cc9a2",
   "metadata": {},
   "outputs": [],
   "source": [
    "# remove stop words, punctuation\n",
    "words_to_remove = set(stopwords.words('english') + list(string.punctuation))\n",
    "\n",
    "filtered_vocabulary_all = [\n",
    "    word for word in vocabulary_all if word not in words_to_remove\n",
    "]\n",
    "\n",
    "# remove numbers and arithmetic expressions\n",
    "pattern_numbers_and_expressions = re.compile('[±×−∼–-]?[0-9]\\d*[×±=.,/−∼–-∶]?\\d*[×±=.,/−∼–-∶]?')\n",
    "pattern_letters_and_numbers = re.compile('[A-Za-z]+[\\d@]+[\\w@]*|[\\d@]+[A-Za-z]+[\\w@]*')\n",
    "\n",
    "filtered_vocabulary_all =[\n",
    "    word for word in filtered_vocabulary_all if not (\n",
    "        pattern_numbers_and_expressions.match(word)\n",
    "        or pattern_letters_and_numbers.match(word)\n",
    "        or '=' in word\n",
    "    )\n",
    "]\n",
    "\n",
    "# remove leading and trailing special characters\n",
    "filtered_vocabulary_all = [w.strip(\"'./*∗-′+®`’\") for w in filtered_vocabulary_all]\n",
    "\n",
    "# remove words with only one symbol that are not alpha\n",
    "filtered_vocabulary_all = list(filter(\n",
    "    lambda x: (len(x) > 1) or (len(x) == 1 and x.isalpha()), \n",
    "    filtered_vocabulary_all\n",
    ")) \n",
    "\n",
    "filtered_tokens_all = [t for t in tokens_all if t in filtered_vocabulary_all]\n",
    "filtered_tokens_jpp = [t for t in tokens_jpp if t in filtered_vocabulary_all]\n",
    "filtered_tokens_jtht = [t for t in tokens_jtht if t in filtered_vocabulary_all]"
   ]
  },
  {
   "cell_type": "markdown",
   "id": "c2808cbb",
   "metadata": {},
   "source": [
    "## Frequency distribution of tokens"
   ]
  },
  {
   "cell_type": "code",
   "execution_count": 16,
   "id": "946c9a7f",
   "metadata": {},
   "outputs": [
    {
     "data": {
      "image/png": "[encoded data removed]",
      "text/plain": [
       "<Figure size 1224x504 with 1 Axes>"
      ]
     },
     "metadata": {
      "needs_background": "light"
     },
     "output_type": "display_data"
    },
    {
     "data": {
      "text/plain": [
       "<matplotlib.axes._subplots.AxesSubplot at 0x1255eba50>"
      ]
     },
     "execution_count": 16,
     "metadata": {},
     "output_type": "execute_result"
    }
   ],
   "source": [
    "freq_tokens_all = nltk.FreqDist(filtered_tokens_all)\n",
    "\n",
    "plt.figure(figsize=(17, 7))\n",
    "freq_tokens_all.plot(50, title='The most frequent words in Aeronautics & Astronautics Abstracts')"
   ]
  },
  {
   "cell_type": "markdown",
   "id": "0aa74dd7",
   "metadata": {},
   "source": [
    "## Find collocations\n",
    "A collocation is a series of words or terms that co-occur more often than would be expected by chance. They can be play an important role in distinguishing between domains"
   ]
  },
  {
   "cell_type": "code",
   "execution_count": 17,
   "id": "c3a18ff2",
   "metadata": {},
   "outputs": [
    {
     "name": "stdout",
     "output_type": "stream",
     "text": [
      "468\n",
      "[('heat', 'transfer'), ('heat', 'flux'), ('results', 'show'), ('experimental', 'data'), ('rotating', 'detonation'), ('nusselt', 'number'), ('magnetic', 'field'), ('reynolds', 'number'), ('hybrid', 'rocket'), ('good', 'agreement')]\n"
     ]
    }
   ],
   "source": [
    "bigram_frequency_creteria = 5\n",
    "max_number_allocations = 1000\n",
    "\n",
    "bigram_measures = BigramAssocMeasures()\n",
    "finder = BigramCollocationFinder.from_words(filtered_tokens_all)\n",
    "finder.apply_freq_filter(bigram_frequency_creteria)\n",
    "\n",
    "bigram_collocation = finder.nbest(bigram_measures.likelihood_ratio, max_number_allocations)\n",
    "\n",
    "print(len(bigram_collocation))\n",
    "print(bigram_collocation[0:10])"
   ]
  },
  {
   "cell_type": "code",
   "execution_count": 18,
   "id": "f5cc010c",
   "metadata": {},
   "outputs": [
    {
     "name": "stdout",
     "output_type": "stream",
     "text": [
      "314\n",
      "[('heat', 'transfer', 'coefficient'), ('heat', 'transfer', 'enhancement'), ('convective', 'heat', 'transfer'), ('radiative', 'heat', 'transfer'), ('heat', 'transfer', 'rate'), ('surface', 'heat', 'transfer'), ('conjugate', 'heat', 'transfer'), ('enhances', 'heat', 'transfer'), ('heat', 'transfer', 'helical'), ('enhance', 'heat', 'transfer')]\n"
     ]
    }
   ],
   "source": [
    "trigram_frequency_creteria = 3\n",
    "max_number_allocations = 500\n",
    "\n",
    "trigram_measures = TrigramAssocMeasures()\n",
    "\n",
    "finder = TrigramCollocationFinder.from_words(filtered_tokens_all)\n",
    "finder.apply_freq_filter(trigram_frequency_creteria)\n",
    "\n",
    "trigram_collocation = finder.nbest(trigram_measures.likelihood_ratio, max_number_allocations)\n",
    "\n",
    "print(len(trigram_collocation))\n",
    "print(trigram_collocation[:10])"
   ]
  },
  {
   "cell_type": "markdown",
   "id": "7b4168eb",
   "metadata": {},
   "source": [
    "## Feature engineering for NaiveBayesClassifier"
   ]
  },
  {
   "cell_type": "code",
   "execution_count": 19,
   "id": "9c1ab177",
   "metadata": {},
   "outputs": [
    {
     "name": "stdout",
     "output_type": "stream",
     "text": [
      "['heat transfer', 'heat flux', 'results show', 'experimental data', 'rotating detonation']\n",
      "['heat transfer coefficient', 'heat transfer enhancement', 'convective heat transfer', 'radiative heat transfer', 'heat transfer rate']\n"
     ]
    }
   ],
   "source": [
    "# transform collocations from tuples to string units and store them in lists\n",
    "bigram_collocation = [' '.join(collocation) for collocation in bigram_collocation]\n",
    "trigram_collocation = [' '.join(collocation) for collocation in trigram_collocation]\n",
    "\n",
    "# create vocabulary of collocations\n",
    "collocations_vocabulary = bigram_collocation\n",
    "collocations_vocabulary.extend(trigram_collocation)\n",
    "\n",
    "print(bigram_collocation[:5])\n",
    "print(trigram_collocation[:5])"
   ]
  },
  {
   "cell_type": "code",
   "execution_count": 20,
   "id": "5e5c84e2",
   "metadata": {},
   "outputs": [
    {
     "name": "stdout",
     "output_type": "stream",
     "text": [
      "Size of vocabulary of tokens: 6459\n",
      "Size of vocabulary of collocations: 782\n"
     ]
    }
   ],
   "source": [
    "# get n most frequent vocabulary tokens\n",
    "def get_vocabulary(tokens: list, n = 2000):\n",
    "\n",
    "    vocabulary = tokens[:n] if len(tokens) >= n else tokens\n",
    "    return vocabulary\n",
    "\n",
    "# create vocabulary of tokens\n",
    "ordered_tokens = list(freq_tokens_all)\n",
    "tokens_vocabulary = get_vocabulary(ordered_tokens, len(ordered_tokens))\n",
    "\n",
    "print(f'Size of vocabulary of tokens: {len(tokens_vocabulary)}')\n",
    "print(f'Size of vocabulary of collocations: {len(collocations_vocabulary)}')"
   ]
  },
  {
   "cell_type": "code",
   "execution_count": 21,
   "id": "71103d5f",
   "metadata": {},
   "outputs": [
    {
     "name": "stdout",
     "output_type": "stream",
     "text": [
      "Check number of documents features in the training set: 379\n"
     ]
    }
   ],
   "source": [
    "# get document features in a form of dictionary \n",
    "# where key contains a token name and value tells whether the token is present in the document\n",
    "def get_document_features(\n",
    "    document_tokens, \n",
    "    document_text,\n",
    "    tokens = tokens_vocabulary, \n",
    "    collocations = collocations_vocabulary\n",
    "):\n",
    "    unique_document_tokens = set(document_tokens)\n",
    "    \n",
    "    features = {}\n",
    "    for word in tokens:\n",
    "        features['contains({})'.format(word)] = (word in unique_document_tokens)\n",
    "        \n",
    "    for collocation in collocations:\n",
    "        features['contains({})'.format(collocation)] = (collocation in document_text)\n",
    "        \n",
    "    return features\n",
    "\n",
    "# create features for each type of journals of the TRAINING set\n",
    "features_jpp_train = [\n",
    "    (\n",
    "        get_document_features(\n",
    "            nltk.word_tokenize(' '.join(nltk.sent_tokenize(d.lower()))), d\n",
    "        ), 'JPP'\n",
    "    ) for d in text_jpp\n",
    "]\n",
    "\n",
    "features_jtht_train = [\n",
    "    (\n",
    "        get_document_features(\n",
    "            nltk.word_tokenize(' '.join(nltk.sent_tokenize(d.lower()))), d\n",
    "        ), 'JTHT'\n",
    "    ) for d in text_jtht\n",
    "]\n",
    "\n",
    "documents_features_train = features_jpp_train + features_jtht_train\n",
    "random.shuffle(documents_features_train)\n",
    "\n",
    "print(f'Check number of documents features in the training set: {len(documents_features_train)}')"
   ]
  },
  {
   "cell_type": "code",
   "execution_count": 22,
   "id": "33ba77b6",
   "metadata": {},
   "outputs": [
    {
     "name": "stdout",
     "output_type": "stream",
     "text": [
      "Check number of documents features in the testing set: 95\n"
     ]
    }
   ],
   "source": [
    "# create features for each type of journals of the TESTING set\n",
    "raw_df_test.loc[:, 'text'] = raw_df_test.loc[:, 'title'] + ' ' + raw_df_test.loc[:, 'abstract']\n",
    "\n",
    "text_jpp_test = raw_df_test.loc[raw_df_test['journal'] == 'JPP', 'text'].tolist()\n",
    "text_jtht_test = raw_df_test.loc[raw_df_test['journal'] == 'JTHT', 'text'].tolist()\n",
    "\n",
    "\n",
    "features_jpp_test = [\n",
    "    (\n",
    "        get_document_features(\n",
    "            nltk.word_tokenize(' '.join(nltk.sent_tokenize(d.lower()))), d\n",
    "        ), 'JPP'\n",
    "    ) for d in text_jpp_test\n",
    "]\n",
    "\n",
    "features_jtht_test = [\n",
    "    (\n",
    "        get_document_features(\n",
    "            nltk.word_tokenize(' '.join(nltk.sent_tokenize(d.lower()))), d\n",
    "        ), 'JTHT'\n",
    "    ) for d in text_jtht_test\n",
    "]\n",
    "\n",
    "documents_features_test = features_jpp_test + features_jtht_test\n",
    "random.shuffle(documents_features_test)\n",
    "\n",
    "print(f'Check number of documents features in the testing set: {len(documents_features_test)}')"
   ]
  },
  {
   "cell_type": "markdown",
   "id": "335d40a1",
   "metadata": {},
   "source": [
    "## Classify entries with NaiveBayesClassifier and KFold cross-validation\n",
    "I use cross-validation to try different parameters for bigram and trigram_frequency_creteria, max_number_allocations and tokens vocabulary size. Then I test the model on unseen data"
   ]
  },
  {
   "cell_type": "code",
   "execution_count": 23,
   "id": "121eb512",
   "metadata": {},
   "outputs": [],
   "source": [
    "num_folds = 10\n",
    "\n",
    "classifier = nltk.NaiveBayesClassifier\n",
    "\n",
    "training_accuracy = []\n",
    "validation_accuracy = []\n",
    "\n",
    "skf = KFold(n_splits=num_folds, shuffle=True)\n",
    "\n",
    "for train_index, validation_index in skf.split(documents_features_train):\n",
    "    \n",
    "    train_set = [documents_features_train[i] for i in train_index]\n",
    "    validation_set = [documents_features_train[i] for i in validation_index]\n",
    "    model = classifier.train(train_set)\n",
    "    \n",
    "    training_accuracy.append(nltk.classify.accuracy(model, train_set))\n",
    "    validation_accuracy.append(nltk.classify.accuracy(model, validation_set))"
   ]
  },
  {
   "cell_type": "code",
   "execution_count": 24,
   "id": "0c6d28bb",
   "metadata": {},
   "outputs": [
    {
     "name": "stdout",
     "output_type": "stream",
     "text": [
      "Accuracy of train data: 0.9958961430947848\n",
      "Accuracy of validation data: 0.9287339971550498\n"
     ]
    }
   ],
   "source": [
    "print(f'Accuracy of train data: {sum(training_accuracy)/len(training_accuracy)}')\n",
    "print(f'Accuracy of validation data: {sum(validation_accuracy)/len(validation_accuracy)}')"
   ]
  },
  {
   "cell_type": "markdown",
   "id": "0dda25df",
   "metadata": {},
   "source": [
    "## Test on the testing dataset"
   ]
  },
  {
   "cell_type": "code",
   "execution_count": 25,
   "id": "1796b228",
   "metadata": {},
   "outputs": [
    {
     "name": "stdout",
     "output_type": "stream",
     "text": [
      "Accuracy of test data: 0.9473684210526315\n"
     ]
    }
   ],
   "source": [
    "model = classifier.train(documents_features_train)\n",
    "\n",
    "testing_accuracy = nltk.classify.accuracy(model, documents_features_test)\n",
    "print(f'Accuracy of test data: {testing_accuracy}')"
   ]
  },
  {
   "cell_type": "markdown",
   "id": "3d6f32dc",
   "metadata": {},
   "source": [
    "## Error Analysis \n",
    "Analyse documents with wrong predictions"
   ]
  },
  {
   "cell_type": "code",
   "execution_count": 26,
   "id": "d5b151b4",
   "metadata": {},
   "outputs": [
    {
     "name": "stdout",
     "output_type": "stream",
     "text": [
      "JPP document: Temperature and Size Measurements of Cryogenic Spray Droplets with Global Rainbow Refractometry In this study, global rainbow refractometry (GRR) is applied to investigate cryogenic spray droplets (i.e., liquid nitrogen, liquid oxygen, and liquid methane). The refractive index and droplet size probability distribution are retrieved from the global rainbow pattern with inversion methods, using the complex angular momentum (CAM) scattering theory. Results show that temperature retrieved from the rainbow signal agrees well with temperature measured by the thermocouple, with discrepancy less than 7.5% for test sprays at temperatures ranging from 80 to 110 K. The temperature measurement uncertainty of GRR is estimated to lie within ±1.0K. The temperature recorded by the thermocouple is corrected by taking account of the heat transfer effect, which causes a temperature deviation of about 10−2K. With Saengkaew’s methods, the deduced droplet size distribution shows bimodal or even multimodal characteristics in the measurement volume. The present work demonstrates the application of the GRR technique to the cryogenic sprays.\n",
      "\n",
      "JPP document: Time Vector Marching Method for Analyzing Complex Periodic Unsteady Flows Within Turbomachinery The paper presents an efficient method for analyzing complex periodic unsteady flows within turbomachinery. The method transforms the original initial value problem of unsteady flows to a boundary value problem by taking advantage of temporal periodicity known a priori. This transform allows a pseudotime marching at all physical time instants to be performed simultaneously, for which the method is called the time vector marching (TVM) method. Time direction discretization can be achieved using finite difference schemes. A second-order backward scheme and a ninth-order mixed scheme are investigated. To demonstrate the stability, accuracy, and correctness of the TVM method, the one-dimensional (1-D) advection equation and a quasi-1-D Laval nozzle with time-varying inlet total pressures are used as the test cases. The unsteady flowfield within it was also analyzed using a time-domain dual time-stepping (DTS) method and the harmonic balance (HB) method to obtain the results as references. Further verification was carried out using a transonic compressor rotor with inlet absolute total pressure distortion. The phase-shift boundary condition was applied at geometric periodic boundaries to facilitate the use of a computational domain of one blade passage for a blade row. The time-averaged and instantaneous results of the DTS, HB, and TVM methods and associated time cost were compared and discussed.\n",
      "\n",
      "JPP document: Experimental Study of Methane Heat Transfer Deterioration in a Subscale Combustion Chamber Methane has many possible advantages as a fuel for reusable rocket engines and is therefore extensively discussed. However, the characteristics of methane as a coolant in a regenerative cooling system are widely unknown. Especially the heat transfer deterioration that occurs in the vicinity of the critical point is a major concern and a severe drawback. To investigate this phenomenon and to establish a broad data basis for the validation of numerical simulations, tests were performed with a subscale combustion chamber. The combustion chamber contains different cooling channel geometries (rectangular cooling channels with the aspect ratios [height-to-width ratio]: 1.7, 3.5, 9.2, and 30) and was cooled with cryogenic methane. Results close to the critical point show a distinct maximum in hot gas wall temperature, which is a clear evidence of heat transfer deterioration. The test results indicate a strong dependency on the occurrence of this effect toward cooling channels with a low aspect ratio.\n",
      "\n",
      "JPP document: Numerical Investigation of Active Flow Control of Low-Pressure Turbine Endwall Flow The endwall flow in a highly loaded linear low-pressure turbine cascade has been numerically investigated for a chord-based Reynolds number of 100,000. Mean flow visualizations reveal a horseshoe vortex at the endwall-leading edge junction. The pressure side leg of the horseshoe vortex develops into a highly coherent passage vortex. The passage vortex is supported by a strong secondary flow that impinges on the endwall and spreads in the pitchwise direction. A dynamic mode decomposition reveals temporally growing three-dimensional modes that are susceptible to unsteady flow control. Based on the modal analysis and physical understanding of the mean flow topology, several different steady and unsteady flow control strategies were devised for weakening the passage vortex, countering the secondary flow, and reducing the suction side corner flow separation. Steady blowing that directly opposes the secondary flow effectively lowers the total pressure losses but requires large amplitudes, which makes it inefficient. Unsteady forcing is demonstrated to be an efficient way for decreasing the coherence of the passage vortex and for obtaining a moderate reduction of the total pressure losses.\n",
      "\n",
      "JTHT document: Numerical and Experimental Examination of Turbulent Mixing of Heated Jet in Crossflow The injection of fully developed turbulent heated air from a tube into a cooler turbulent duct flow is examined as a analogy to film-cooled turbine blades. An implicit large-eddy simulation numerical model is applied such that tube and duct turbulence inflow effects are emulated using a divergence-free synthetic eddy method. For direct comparison, a hot-wire experiment is conducted within the Engine Research Building (ERB) test cell SW-6 at the NASA John H. Glenn Research Center. Excellent agreement is obtained for these numerical and experimental results as related to the velocity, temperature, and heat flux for a blowing ratio of 1.2 and by involving a 36 K temperature difference. The relative effect on the solutions of the tube and duct inflow turbulence is systematically evaluated. The impact of inherent low-pass filtering of temperature measurements and probe wire offset on the experimental results are addressed. The validity of the gradient diffusion hypothesis, which is fundamental to Reynolds-averaged Navier–Stokes models, is evaluated.\n",
      "\n"
     ]
    }
   ],
   "source": [
    "# get document features for test in the initial order\n",
    "documents_features_test = features_jpp_test + features_jtht_test\n",
    "\n",
    "wrong_predictions_indexes = []\n",
    "\n",
    "for index, document in enumerate(documents_features_test):\n",
    "    features, journal_type = document\n",
    "    journal_type_predicted = model.classify(features)\n",
    "    if journal_type != journal_type_predicted:\n",
    "        wrong_predictions_indexes.append(index)\n",
    "\n",
    "n = len(text_jpp_test)\n",
    "for index in wrong_predictions_indexes:\n",
    "    if index < n:\n",
    "        print(f'JPP document: {text_jpp_test[index]}\\n')\n",
    "    else:\n",
    "        print(f'JTHT document: {text_jtht_test[index - n]}\\n')"
   ]
  },
  {
   "cell_type": "markdown",
   "id": "a17356e4",
   "metadata": {},
   "source": [
    "## Most Informative Features\n",
    "Both tokens and collocations play important role in predicting the domain"
   ]
  },
  {
   "cell_type": "code",
   "execution_count": 27,
   "id": "f0444e3a",
   "metadata": {},
   "outputs": [
    {
     "name": "stdout",
     "output_type": "stream",
     "text": [
      "Most Informative Features\n",
      "        contains(thrust) = True              JPP : JTHT   =     22.8 : 1.0\n",
      "      contains(thruster) = True              JPP : JTHT   =     20.2 : 1.0\n",
      "    contains(combustion) = True              JPP : JTHT   =     19.4 : 1.0\n",
      "         contains(fuels) = True              JPP : JTHT   =     15.7 : 1.0\n",
      "     contains(injection) = True              JPP : JTHT   =     15.1 : 1.0\n",
      "     contains(discharge) = True              JPP : JTHT   =     13.8 : 1.0\n",
      "    contains(propulsion) = True              JPP : JTHT   =     12.5 : 1.0\n",
      " contains(heat exchange) = True             JTHT : JPP    =     12.1 : 1.0\n",
      "        contains(finite) = True             JTHT : JPP    =     11.8 : 1.0\n",
      "    contains(propellant) = True              JPP : JTHT   =     11.4 : 1.0\n",
      "    contains(convection) = True             JTHT : JPP    =     11.4 : 1.0\n",
      "        contains(porous) = True             JTHT : JPP    =     11.4 : 1.0\n",
      "      contains(vertical) = True             JTHT : JPP    =     11.4 : 1.0\n",
      "contains(equivalence ratio) = True              JPP : JTHT   =     11.2 : 1.0\n",
      "   contains(equivalence) = True              JPP : JTHT   =     11.2 : 1.0\n",
      "    contains(conduction) = True             JTHT : JPP    =     10.7 : 1.0\n",
      "contains(temperature distribution) = True             JTHT : JPP    =     10.7 : 1.0\n",
      "contains(combustion chamber) = True              JPP : JTHT   =     10.6 : 1.0\n",
      "          contains(fuel) = True              JPP : JTHT   =     10.3 : 1.0\n",
      "        contains(motors) = True              JPP : JTHT   =     10.0 : 1.0\n",
      "      contains(reynolds) = True             JTHT : JPP    =      9.8 : 1.0\n",
      "        contains(rocket) = True              JPP : JTHT   =      9.5 : 1.0\n",
      "         contains(flame) = True              JPP : JTHT   =      9.4 : 1.0\n",
      "     contains(governing) = True             JTHT : JPP    =      9.3 : 1.0\n",
      "      contains(rayleigh) = True             JTHT : JPP    =      9.3 : 1.0\n",
      "   contains(instability) = True              JPP : JTHT   =      9.3 : 1.0\n",
      "       contains(impulse) = True              JPP : JTHT   =      9.1 : 1.0\n",
      "contains(nonequilibrium) = True             JTHT : JPP    =      8.9 : 1.0\n",
      "           contains(ion) = True              JPP : JTHT   =      8.7 : 1.0\n",
      "  contains(oscillations) = True              JPP : JTHT   =      8.7 : 1.0\n",
      "contains(propulsion system) = True              JPP : JTHT   =      8.7 : 1.0\n",
      "  contains(rocket motor) = True              JPP : JTHT   =      8.7 : 1.0\n",
      "     contains(stability) = True              JPP : JTHT   =      8.7 : 1.0\n",
      "contains(heat exchanger) = True             JTHT : JPP    =      8.6 : 1.0\n",
      " contains(high-enthalpy) = True             JTHT : JPP    =      8.6 : 1.0\n",
      "        contains(square) = True             JTHT : JPP    =      8.6 : 1.0\n",
      " contains(heat transfer) = True             JTHT : JPP    =      8.6 : 1.0\n",
      "        contains(engine) = True              JPP : JTHT   =      8.0 : 1.0\n",
      "contains(heat transfer rate) = True             JTHT : JPP    =      8.0 : 1.0\n",
      "    contains(horizontal) = True             JTHT : JPP    =      8.0 : 1.0\n",
      "contains(thermochemical) = True             JTHT : JPP    =      8.0 : 1.0\n",
      " contains(transfer rate) = True             JTHT : JPP    =      8.0 : 1.0\n",
      "        contains(hybrid) = True              JPP : JTHT   =      7.8 : 1.0\n",
      "  contains(characterize) = True              JPP : JTHT   =      7.4 : 1.0\n",
      "    contains(determined) = True              JPP : JTHT   =      7.4 : 1.0\n",
      "contains(solid propellant) = True              JPP : JTHT   =      7.4 : 1.0\n",
      "        contains(trends) = True              JPP : JTHT   =      7.4 : 1.0\n",
      "     contains(heat flux) = True             JTHT : JPP    =      7.1 : 1.0\n",
      "        contains(medium) = True             JTHT : JPP    =      6.8 : 1.0\n",
      "       contains(gaseous) = True              JPP : JTHT   =      6.7 : 1.0\n"
     ]
    }
   ],
   "source": [
    "model.show_most_informative_features(50)"
   ]
  },
  {
   "cell_type": "code",
   "execution_count": null,
   "id": "8a9a9f03",
   "metadata": {},
   "outputs": [],
   "source": []
  },
  {
   "cell_type": "code",
   "execution_count": null,
   "id": "86335841",
   "metadata": {},
   "outputs": [],
   "source": []
  }
 ],
 "metadata": {
  "kernelspec": {
   "display_name": "Python 3",
   "language": "python",
   "name": "python3"
  },
  "language_info": {
   "codemirror_mode": {
    "name": "ipython",
    "version": 3
   },
   "file_extension": ".py",
   "mimetype": "text/x-python",
   "name": "python",
   "nbconvert_exporter": "python",
   "pygments_lexer": "ipython3",
   "version": "3.7.4"
  }
 },
 "nbformat": 4,
 "nbformat_minor": 5
}
